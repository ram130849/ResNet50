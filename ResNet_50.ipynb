{
 "cells": [
  {
   "cell_type": "code",
   "execution_count": 329,
   "metadata": {},
   "outputs": [],
   "source": [
    "import tensorflow as tf\n",
    "import numpy as np\n",
    "import matplotlib.pyplot as plt\n",
    "from tensorflow import keras\n",
    "from tensorflow.keras.layers import Input, Conv2D, MaxPooling2D, ZeroPadding2D,Flatten, BatchNormalization, AveragePooling2D, Dense, Activation, Add \n",
    "from tensorflow.keras.models import Model\n",
    "from tensorflow.keras import activations\n",
    "from tensorflow.keras.optimizers import Adam\n",
    "from tensorflow.keras import optimizers\n",
    "from tensorflow.keras.callbacks import EarlyStopping\n",
    "from tensorflow.keras.regularizers import l2"
   ]
  },
  {
   "cell_type": "code",
   "execution_count": 330,
   "metadata": {},
   "outputs": [],
   "source": [
    "import shutil, os\n",
    "import numpy as np\n",
    "import pandas as pd\n",
    "from keras.preprocessing.image import ImageDataGenerator as Imgen\n",
    "from keras.preprocessing import image\n",
    "from tensorflow.keras.applications.resnet import preprocess_input\n",
    "from sklearn.model_selection import train_test_split\n",
    "\n",
    "import cv2"
   ]
  },
  {
   "cell_type": "code",
   "execution_count": 331,
   "metadata": {},
   "outputs": [
    {
     "data": {
      "text/html": [
       "<div>\n",
       "<style scoped>\n",
       "    .dataframe tbody tr th:only-of-type {\n",
       "        vertical-align: middle;\n",
       "    }\n",
       "\n",
       "    .dataframe tbody tr th {\n",
       "        vertical-align: top;\n",
       "    }\n",
       "\n",
       "    .dataframe thead th {\n",
       "        text-align: right;\n",
       "    }\n",
       "</style>\n",
       "<table border=\"1\" class=\"dataframe\">\n",
       "  <thead>\n",
       "    <tr style=\"text-align: right;\">\n",
       "      <th></th>\n",
       "      <th>Unnamed: 0</th>\n",
       "      <th>Unnamed: 0.1</th>\n",
       "      <th>id</th>\n",
       "      <th>breed</th>\n",
       "    </tr>\n",
       "  </thead>\n",
       "  <tbody>\n",
       "    <tr>\n",
       "      <th>0</th>\n",
       "      <td>0</td>\n",
       "      <td>4</td>\n",
       "      <td>0021f9ceb3235effd7fcde7f7538ed62.jpg</td>\n",
       "      <td>golden_retriever</td>\n",
       "    </tr>\n",
       "    <tr>\n",
       "      <th>1</th>\n",
       "      <td>1</td>\n",
       "      <td>9</td>\n",
       "      <td>0042188c895a2f14ef64a918ed9c7b64.jpg</td>\n",
       "      <td>scottish_deerhound</td>\n",
       "    </tr>\n",
       "    <tr>\n",
       "      <th>2</th>\n",
       "      <td>2</td>\n",
       "      <td>20</td>\n",
       "      <td>008b1271ed1addaccf93783b39deab45.jpg</td>\n",
       "      <td>doberman</td>\n",
       "    </tr>\n",
       "    <tr>\n",
       "      <th>3</th>\n",
       "      <td>3</td>\n",
       "      <td>25</td>\n",
       "      <td>00a366d4b4a9bbb6c8a63126697b7656.jpg</td>\n",
       "      <td>golden_retriever</td>\n",
       "    </tr>\n",
       "    <tr>\n",
       "      <th>4</th>\n",
       "      <td>4</td>\n",
       "      <td>37</td>\n",
       "      <td>0100f55e4f0fe28f2c0465d3fc4b9897.jpg</td>\n",
       "      <td>golden_retriever</td>\n",
       "    </tr>\n",
       "  </tbody>\n",
       "</table>\n",
       "</div>"
      ],
      "text/plain": [
       "   Unnamed: 0  Unnamed: 0.1                                    id  \\\n",
       "0           0             4  0021f9ceb3235effd7fcde7f7538ed62.jpg   \n",
       "1           1             9  0042188c895a2f14ef64a918ed9c7b64.jpg   \n",
       "2           2            20  008b1271ed1addaccf93783b39deab45.jpg   \n",
       "3           3            25  00a366d4b4a9bbb6c8a63126697b7656.jpg   \n",
       "4           4            37  0100f55e4f0fe28f2c0465d3fc4b9897.jpg   \n",
       "\n",
       "                breed  \n",
       "0    golden_retriever  \n",
       "1  scottish_deerhound  \n",
       "2            doberman  \n",
       "3    golden_retriever  \n",
       "4    golden_retriever  "
      ]
     },
     "execution_count": 331,
     "metadata": {},
     "output_type": "execute_result"
    }
   ],
   "source": [
    "labels = pd.read_csv(\"C:/Users/91709/dog-breed-identification/labels1.csv\")\n",
    "sample = pd.read_csv('C:/Users/91709/dog-breed-identification/sample_submission.csv')\n",
    "labels.head()"
   ]
  },
  {
   "cell_type": "code",
   "execution_count": 332,
   "metadata": {},
   "outputs": [
    {
     "data": {
      "text/plain": [
       "0      0021f9ceb3235effd7fcde7f7538ed62.jpg\n",
       "1      0042188c895a2f14ef64a918ed9c7b64.jpg\n",
       "2      008b1271ed1addaccf93783b39deab45.jpg\n",
       "3      00a366d4b4a9bbb6c8a63126697b7656.jpg\n",
       "4      0100f55e4f0fe28f2c0465d3fc4b9897.jpg\n",
       "                       ...                 \n",
       "836    fe50bac6c389d137ea01c9cfc7346ca8.jpg\n",
       "837    fe624532170510bd80627c0500bafc97.jpg\n",
       "838    feb16cf86c9dac6d476e3c372ba5c279.jpg\n",
       "839    febcab8eb2da444bf83336cffec7eb92.jpg\n",
       "840    ff6f47aa8e181b6efa4d0be7b09b5628.jpg\n",
       "Name: id, Length: 841, dtype: object"
      ]
     },
     "execution_count": 332,
     "metadata": {},
     "output_type": "execute_result"
    }
   ],
   "source": [
    "# def rchop(s):\n",
    "#       s=s[:-4]\n",
    "#       return s\n",
    "   \n",
    "# labels['id']=labels['id'].apply(rchop)\n",
    "labels['id']"
   ]
  },
  {
   "cell_type": "code",
   "execution_count": 333,
   "metadata": {},
   "outputs": [
    {
     "name": "stdout",
     "output_type": "stream",
     "text": [
      "['beagle' 'chihuahua' 'doberman' 'french_bulldog' 'golden_retriever'\n",
      " 'malamute' 'pug' 'saint_bernard' 'scottish_deerhound' 'tibetan_mastiff'] [105  71  74  70  67  81  94  84 126  69]\n"
     ]
    },
    {
     "data": {
      "text/plain": [
       "scottish_deerhound    126\n",
       "beagle                105\n",
       "pug                    94\n",
       "saint_bernard          84\n",
       "malamute               81\n",
       "doberman               74\n",
       "chihuahua              71\n",
       "french_bulldog         70\n",
       "tibetan_mastiff        69\n",
       "golden_retriever       67\n",
       "Name: breed, dtype: int64"
      ]
     },
     "execution_count": 333,
     "metadata": {},
     "output_type": "execute_result"
    }
   ],
   "source": [
    " (unique, counts) = np.unique(labels['breed'], return_counts=True)\n",
    " print(unique,counts)\n",
    "labels['breed'].value_counts()"
   ]
  },
  {
   "cell_type": "code",
   "execution_count": 334,
   "metadata": {},
   "outputs": [],
   "source": [
    "train_paths = 'C:/Users/91709/dog-breed-identification/sample_train/' + labels['id']"
   ]
  },
  {
   "cell_type": "code",
   "execution_count": 335,
   "metadata": {},
   "outputs": [],
   "source": [
    "dog_breeds = pd.get_dummies(labels.breed).values"
   ]
  },
  {
   "cell_type": "code",
   "execution_count": 336,
   "metadata": {},
   "outputs": [],
   "source": [
    "column_names = pd.get_dummies(labels.breed).columns.to_list()"
   ]
  },
  {
   "cell_type": "code",
   "execution_count": 280,
   "metadata": {},
   "outputs": [
    {
     "name": "stdout",
     "output_type": "stream",
     "text": [
      "Found 871 images belonging to 2 classes.\n"
     ]
    }
   ],
   "source": [
    "train_datagen = Imgen(\n",
    "      rotation_range=20,\n",
    "      width_shift_range=0.2,\n",
    "      height_shift_range=0.2,\n",
    "      shear_range=0.2,\n",
    "      zoom_range=0.2,\n",
    "      horizontal_flip=True,\n",
    "      vertical_flip=True,\n",
    "      fill_mode='nearest')\n",
    "\n",
    "train_generator = train_datagen.flow_from_directory(\n",
    "        'C:/Users/91709/dog-breed-identification/',\n",
    "        target_size=(312, 312),\n",
    "        batch_size=32)\n"
   ]
  },
  {
   "cell_type": "code",
   "execution_count": 273,
   "metadata": {},
   "outputs": [
    {
     "data": {
      "text/plain": [
       "<keras_preprocessing.image.directory_iterator.DirectoryIterator at 0x1d618fa64c8>"
      ]
     },
     "execution_count": 273,
     "metadata": {},
     "output_type": "execute_result"
    }
   ],
   "source": [
    "train_generator"
   ]
  },
  {
   "cell_type": "code",
   "execution_count": 337,
   "metadata": {},
   "outputs": [],
   "source": [
    "train_path, valid_path, train_labels, valid_labels = train_test_split(train_paths, dog_breeds, test_size=0.4, random_state=101)"
   ]
  },
  {
   "cell_type": "code",
   "execution_count": 338,
   "metadata": {},
   "outputs": [],
   "source": [
    "train_ds = tf.data.Dataset.from_tensor_slices((train_path, train_labels))\n",
    "valid_ds = tf.data.Dataset.from_tensor_slices((valid_path, valid_labels))"
   ]
  },
  {
   "cell_type": "code",
   "execution_count": 339,
   "metadata": {},
   "outputs": [],
   "source": [
    "def decode_train_data(image_path, label):\n",
    "    \n",
    "    img = tf.io.read_file(image_path)\n",
    "    img = tf.io.decode_jpeg(img, channels=3)\n",
    "    img = tf.cast(img, tf.float32) / 255.0\n",
    "    img = tf.image.resize(img,[312,312])\n",
    "    \n",
    "    return img, label"
   ]
  },
  {
   "cell_type": "code",
   "execution_count": 340,
   "metadata": {},
   "outputs": [],
   "source": [
    "train_ds = train_ds.map(decode_train_data, num_parallel_calls=tf.data.experimental.AUTOTUNE)\n",
    "valid_ds = valid_ds.map(decode_train_data, num_parallel_calls=tf.data.experimental.AUTOTUNE)"
   ]
  },
  {
   "cell_type": "code",
   "execution_count": 341,
   "metadata": {},
   "outputs": [],
   "source": [
    "def augment(img, label):\n",
    "    img = tf.image.random_flip_left_right(img)\n",
    "    img = tf.image.random_flip_up_down(img)\n",
    "    \n",
    "    return img, label\n",
    "\n",
    "def configure_for_performance(ds, batch_size = 16):\n",
    "    \n",
    "    ds = ds.map(augment, num_parallel_calls=tf.data.experimental.AUTOTUNE)\n",
    "    ds = ds.repeat(100)\n",
    "    ds = ds.shuffle(buffer_size=25)\n",
    "    ds = ds.batch(batch_size)\n",
    "    ds = ds.prefetch(buffer_size=tf.data.experimental.AUTOTUNE)\n",
    "    return ds"
   ]
  },
  {
   "cell_type": "code",
   "execution_count": 342,
   "metadata": {},
   "outputs": [],
   "source": [
    "train_ds_batch = configure_for_performance(train_ds)\n",
    "valid_ds_batch = valid_ds.batch(32)"
   ]
  },
  {
   "cell_type": "code",
   "execution_count": 344,
   "metadata": {},
   "outputs": [
    {
     "data": {
      "text/plain": [
       "<bound method DatasetV2.batch of <PrefetchDataset shapes: ((None, 312, 312, 3), (None, 10)), types: (tf.float32, tf.uint8)>>"
      ]
     },
     "execution_count": 344,
     "metadata": {},
     "output_type": "execute_result"
    }
   ],
   "source": [
    "train_ds_batch.batch"
   ]
  },
  {
   "cell_type": "code",
   "execution_count": 237,
   "metadata": {},
   "outputs": [],
   "source": [
    "def plot_images(img,labels):\n",
    "    plt.figure(figsize=[15,10])\n",
    "    for i in range(10):\n",
    "        plt.subplot(5,5,i+1)\n",
    "        plt.imshow(img[i])\n",
    "        plt.title(class_names[np.argmax(labels[i])])\n",
    "        plt.axis('off')"
   ]
  },
  {
   "cell_type": "code",
   "execution_count": 17,
   "metadata": {},
   "outputs": [],
   "source": [
    "# plot_images(train_ds_batch)"
   ]
  },
  {
   "cell_type": "code",
   "execution_count": 345,
   "metadata": {},
   "outputs": [],
   "source": [
    "base_model = tf.keras.applications.ResNet50(include_top=False,weights=\"imagenet\")\n",
    "for layers in base_model.layers:\n",
    "    layers.trainable=True"
   ]
  },
  {
   "cell_type": "code",
   "execution_count": 346,
   "metadata": {},
   "outputs": [],
   "source": [
    "def build_model():\n",
    "    inputs = tf.keras.layers.Input(shape=(312, 312, 3))\n",
    "    preprocess = preprocess_input(inputs)\n",
    "    outputs_resnet = base_model(preprocess)\n",
    "    global_avg_pooling = tf.keras.layers.GlobalAveragePooling2D()(outputs_resnet)\n",
    "    dense_1= tf.keras.layers.Dense(512, kernel_regularizer = 'l2')(global_avg_pooling)\n",
    "    bn_1 = tf.keras.layers.BatchNormalization()(dense_1)\n",
    "    activation = tf.keras.layers.Activation('relu')(bn_1)\n",
    "    dropout = tf.keras.layers.Dropout(0.4)(activation)\n",
    "    dense_2 = tf.keras.layers.Dense(10, activation='softmax')(dropout)\n",
    "    \n",
    "    \n",
    "    model = tf.keras.Model(inputs, dense_2)\n",
    "    \n",
    "    return model"
   ]
  },
  {
   "cell_type": "code",
   "execution_count": 238,
   "metadata": {},
   "outputs": [],
   "source": [
    "def res_identity(x,filters):\n",
    "\n",
    "      x_skip =x\n",
    "      f1,f2 = filters\n",
    "\n",
    "        #first block \n",
    "      x = Conv2D(f1, kernel_size=(1, 1), strides=(1, 1), padding='valid', kernel_regularizer=l2(0.001))(x)\n",
    "      x = BatchNormalization()(x)\n",
    "      x = Activation(activations.relu)(x)\n",
    "\n",
    "      #second block # bottleneck (but size kept same with padding)\n",
    "      x = Conv2D(f1, kernel_size=(3, 3), strides=(1, 1), padding='same', kernel_regularizer=l2(0.001))(x)\n",
    "      x = BatchNormalization()(x)\n",
    "      x = Activation(activations.relu)(x)\n",
    "\n",
    "      # third block activation used after adding the input\n",
    "      x = Conv2D(f2, kernel_size=(1, 1), strides=(1, 1), padding='valid', kernel_regularizer=l2(0.001))(x)\n",
    "      x = BatchNormalization()(x)\n",
    "      # x = Activation(activations.relu)(x)\n",
    "\n",
    "      # add the input \n",
    "      x = Add()([x, x_skip])\n",
    "      x = Activation(activations.relu)(x)\n",
    "\n",
    "      return x"
   ]
  },
  {
   "cell_type": "code",
   "execution_count": 239,
   "metadata": {},
   "outputs": [],
   "source": [
    "def res_conv(x, s, filters):\n",
    "  '''\n",
    "  here the input size changes''' \n",
    "  x_skip = x\n",
    "  f1, f2 = filters\n",
    "\n",
    "  # first block\n",
    "  x = Conv2D(f1, kernel_size=(1, 1), strides=(s, s), padding='valid', kernel_regularizer=l2(0.001))(x)\n",
    "  # when s = 2 then it is like downsizing the feature map\n",
    "  x = BatchNormalization()(x)\n",
    "  x = Activation(activations.relu)(x)\n",
    "\n",
    "  # second block\n",
    "  x = Conv2D(f1, kernel_size=(3, 3), strides=(1, 1), padding='same', kernel_regularizer=l2(0.001))(x)\n",
    "  x = BatchNormalization()(x)\n",
    "  x = Activation(activations.relu)(x)\n",
    "\n",
    "  #third block\n",
    "  x = Conv2D(f2, kernel_size=(1, 1), strides=(1, 1), padding='valid', kernel_regularizer=l2(0.001))(x)\n",
    "  x = BatchNormalization()(x)\n",
    "\n",
    "  # shortcut \n",
    "  x_skip = Conv2D(f2, kernel_size=(1, 1), strides=(s, s), padding='valid', kernel_regularizer=l2(0.001))(x_skip)\n",
    "  x_skip = BatchNormalization()(x_skip)\n",
    "\n",
    "  # add \n",
    "  x = Add()([x, x_skip])\n",
    "  x = Activation(activations.relu)(x)\n",
    "\n",
    "  return x"
   ]
  },
  {
   "cell_type": "code",
   "execution_count": 240,
   "metadata": {},
   "outputs": [],
   "source": [
    "def resnet50():\n",
    "\n",
    "  input_im = Input(shape=(312, 312, 3)) # dog breed images size\n",
    "  x = ZeroPadding2D(padding=(3, 3))(input_im)\n",
    "\n",
    "  # 1st stage\n",
    "  # here we perform maxpooling, see the figure above\n",
    "\n",
    "  x = Conv2D(64, kernel_size=(7, 7), strides=(2, 2))(x)\n",
    "  x = BatchNormalization()(x)\n",
    "  x = Activation(activations.relu)(x)\n",
    "  x = MaxPooling2D((3, 3), strides=(2, 2))(x)\n",
    "\n",
    "  #2nd stage \n",
    "  # frm here on only conv block and identity block, no pooling\n",
    "\n",
    "  x = res_conv(x, s=1, filters=(64, 128))\n",
    "  x = res_identity(x, filters=(64, 128))\n",
    "  x = res_identity(x, filters=(64, 128))\n",
    "\n",
    "  # 3rd stage\n",
    "\n",
    "  x = res_conv(x, s=2, filters=(128, 256))\n",
    "  x = res_identity(x, filters=(128, 256))\n",
    "  x = res_identity(x, filters=(128, 256))\n",
    "  x = res_identity(x, filters=(128, 256))\n",
    "\n",
    "  # 4th stage\n",
    "\n",
    "  x = res_conv(x, s=2, filters=(256, 512))\n",
    "  x = res_identity(x, filters=(256, 512))\n",
    "  x = res_identity(x, filters=(256, 512))\n",
    "  x = res_identity(x, filters=(256, 512))\n",
    "  x = res_identity(x, filters=(256, 512))\n",
    "  x = res_identity(x, filters=(256, 512))\n",
    "\n",
    "  # 5th stage\n",
    "\n",
    "  x = res_conv(x, s=2, filters=(512, 1024))\n",
    "  x = res_identity(x, filters=(512, 1024))\n",
    "  x = res_identity(x, filters=(512, 1024))\n",
    "\n",
    "  # ends with average pooling and dense connection\n",
    "\n",
    "  x = AveragePooling2D((2, 2), padding='same')(x)\n",
    "  x = Flatten()(x)\n",
    "  x = Dense(10, activation='softmax', kernel_initializer='he_normal')(x) #multi-class\n",
    "  # define the model \n",
    "\n",
    "  model = Model(inputs=input_im, outputs=x, name='Resnet50')\n",
    "\n",
    "  return model"
   ]
  },
  {
   "cell_type": "code",
   "execution_count": 349,
   "metadata": {},
   "outputs": [
    {
     "name": "stdout",
     "output_type": "stream",
     "text": [
      "Model: \"model_5\"\n",
      "_________________________________________________________________\n",
      "Layer (type)                 Output Shape              Param #   \n",
      "=================================================================\n",
      "input_10 (InputLayer)        [(None, 312, 312, 3)]     0         \n",
      "_________________________________________________________________\n",
      "tf_op_layer_strided_slice_1  [(None, 312, 312, 3)]     0         \n",
      "_________________________________________________________________\n",
      "tf_op_layer_BiasAdd_1 (Tenso [(None, 312, 312, 3)]     0         \n",
      "_________________________________________________________________\n",
      "resnet50 (Model)             multiple                  23587712  \n",
      "_________________________________________________________________\n",
      "global_average_pooling2d_1 ( (None, 2048)              0         \n",
      "_________________________________________________________________\n",
      "dense_17 (Dense)             (None, 512)               1049088   \n",
      "_________________________________________________________________\n",
      "batch_normalization_116 (Bat (None, 512)               2048      \n",
      "_________________________________________________________________\n",
      "activation_99 (Activation)   (None, 512)               0         \n",
      "_________________________________________________________________\n",
      "dropout_7 (Dropout)          (None, 512)               0         \n",
      "_________________________________________________________________\n",
      "dense_18 (Dense)             (None, 10)                5130      \n",
      "=================================================================\n",
      "Total params: 24,643,978\n",
      "Trainable params: 24,589,834\n",
      "Non-trainable params: 54,144\n",
      "_________________________________________________________________\n"
     ]
    }
   ],
   "source": [
    "# base_model = resnet50()\n",
    "# base_model.summary()\n",
    "base_model = build_model()\n",
    "\n",
    "base_model.summary()"
   ]
  },
  {
   "cell_type": "code",
   "execution_count": 350,
   "metadata": {},
   "outputs": [],
   "source": [
    "def lrdecay(epoch):\n",
    "    lr = 1e-4\n",
    "    if epoch > 25:\n",
    "        lr *= 0.01\n",
    "    elif epoch > 10:\n",
    "        lr *= 0.1\n",
    "        \n",
    "    #print('Learning rate: ', lr)\n",
    "    return lr"
   ]
  },
  {
   "cell_type": "code",
   "execution_count": 351,
   "metadata": {},
   "outputs": [],
   "source": [
    "def earlystop(mode):\n",
    "    if mode=='acc':\n",
    "        estop = tf.keras.callbacks.EarlyStopping(monitor='val_acc', patience=15, mode='max')\n",
    "        mc = tf.keras.callbacks.ModelCheckpoint('C:/Users/91709/dog-breed-identification/best_model.h5', monitor='val_acc', mode='max', save_best_only=True)\n",
    "    elif mode=='loss':\n",
    "        estop = tf.keras.callbacks.EarlyStopping(monitor='val_loss', patience=15, mode='min')\n",
    "        mc = tf.keras.callbacks.ModelCheckpoint('C:/Users/91709/dog-breed-identification/best_model.h5', monitor='val_loss', mode='min', save_best_only=True)\n",
    "    return (estop,mc)"
   ]
  },
  {
   "cell_type": "code",
   "execution_count": 352,
   "metadata": {},
   "outputs": [],
   "source": [
    "base_model.compile(loss='categorical_crossentropy', optimizer=tf.keras.optimizers.Adam(lr = 3e-4), \n",
    "                       metrics=['acc'])\n",
    "lrdecay = tf.keras.callbacks.LearningRateScheduler(lrdecay)"
   ]
  },
  {
   "cell_type": "code",
   "execution_count": 354,
   "metadata": {
    "scrolled": true
   },
   "outputs": [
    {
     "name": "stdout",
     "output_type": "stream",
     "text": [
      "Epoch 1/50\n",
      "53/52 [==============================] - 913s 17s/step - loss: 10.0962 - acc: 0.3420 - val_loss: 10.5556 - val_acc: 0.1157 - lr: 1.0000e-04\n",
      "Epoch 2/50\n",
      "53/52 [==============================] - 887s 17s/step - loss: 8.8781 - acc: 0.6875 - val_loss: 10.7153 - val_acc: 0.1128 - lr: 1.0000e-04\n",
      "Epoch 3/50\n",
      "53/52 [==============================] - 829s 16s/step - loss: 8.1503 - acc: 0.8526 - val_loss: 10.7663 - val_acc: 0.1157 - lr: 1.0000e-04\n",
      "Epoch 4/50\n",
      "53/52 [==============================] - 830s 16s/step - loss: 7.6947 - acc: 0.9198 - val_loss: 11.8785 - val_acc: 0.1039 - lr: 1.0000e-04\n",
      "Epoch 5/50\n",
      "53/52 [==============================] - 832s 16s/step - loss: 7.3508 - acc: 0.9505 - val_loss: 11.3297 - val_acc: 0.0920 - lr: 1.0000e-04\n",
      "Epoch 6/50\n",
      "53/52 [==============================] - 811s 15s/step - loss: 7.0176 - acc: 0.9599 - val_loss: 11.0788 - val_acc: 0.1009 - lr: 1.0000e-04\n",
      "Epoch 7/50\n",
      "53/52 [==============================] - 826s 16s/step - loss: 6.6705 - acc: 0.9835 - val_loss: 10.1489 - val_acc: 0.1187 - lr: 1.0000e-04\n",
      "Epoch 8/50\n",
      "53/52 [==============================] - 819s 15s/step - loss: 6.3564 - acc: 0.9764 - val_loss: 9.6652 - val_acc: 0.1395 - lr: 1.0000e-04\n",
      "Epoch 9/50\n",
      "53/52 [==============================] - 832s 16s/step - loss: 6.0497 - acc: 0.9764 - val_loss: 10.3056 - val_acc: 0.0920 - lr: 1.0000e-04\n",
      "Epoch 10/50\n",
      "53/52 [==============================] - 824s 16s/step - loss: 5.7217 - acc: 0.9870 - val_loss: 10.1278 - val_acc: 0.0831 - lr: 1.0000e-04\n",
      "Epoch 11/50\n",
      "53/52 [==============================] - 820s 15s/step - loss: 5.4286 - acc: 0.9835 - val_loss: 8.6167 - val_acc: 0.0950 - lr: 1.0000e-04\n",
      "Epoch 12/50\n",
      "53/52 [==============================] - 820s 15s/step - loss: 5.2333 - acc: 0.9882 - val_loss: 8.5612 - val_acc: 0.1276 - lr: 1.0000e-05\n",
      "Epoch 13/50\n",
      "53/52 [==============================] - 830s 16s/step - loss: 5.2011 - acc: 0.9917 - val_loss: 8.6621 - val_acc: 0.0861 - lr: 1.0000e-05\n",
      "Epoch 14/50\n",
      "53/52 [==============================] - 920s 17s/step - loss: 5.1462 - acc: 0.9976 - val_loss: 8.7544 - val_acc: 0.0801 - lr: 1.0000e-05\n",
      "Epoch 15/50\n",
      "53/52 [==============================] - 818s 15s/step - loss: 5.1156 - acc: 0.9953 - val_loss: 8.6597 - val_acc: 0.1009 - lr: 1.0000e-05\n",
      "Epoch 16/50\n",
      "53/52 [==============================] - 842s 16s/step - loss: 5.0723 - acc: 1.0000 - val_loss: 6.9184 - val_acc: 0.4273 - lr: 1.0000e-05\n",
      "Epoch 17/50\n",
      "53/52 [==============================] - 839s 16s/step - loss: 5.0396 - acc: 0.9965 - val_loss: 6.1818 - val_acc: 0.6528 - lr: 1.0000e-05\n",
      "Epoch 18/50\n",
      "53/52 [==============================] - 839s 16s/step - loss: 5.0016 - acc: 0.9976 - val_loss: 7.2223 - val_acc: 0.3472 - lr: 1.0000e-05\n",
      "Epoch 19/50\n",
      "53/52 [==============================] - 1086s 20s/step - loss: 4.9569 - acc: 0.9976 - val_loss: 6.5656 - val_acc: 0.5015 - lr: 1.0000e-05\n",
      "Epoch 20/50\n",
      "53/52 [==============================] - 1122s 21s/step - loss: 4.9160 - acc: 0.9988 - val_loss: 6.1761 - val_acc: 0.6142 - lr: 1.0000e-05\n",
      "Epoch 21/50\n",
      "53/52 [==============================] - 1128s 21s/step - loss: 4.8739 - acc: 1.0000 - val_loss: 6.1614 - val_acc: 0.5964 - lr: 1.0000e-05\n",
      "Epoch 22/50\n",
      "53/52 [==============================] - 1119s 21s/step - loss: 4.8295 - acc: 1.0000 - val_loss: 5.9391 - val_acc: 0.6380 - lr: 1.0000e-05\n",
      "Epoch 23/50\n",
      "53/52 [==============================] - 1099s 21s/step - loss: 4.7885 - acc: 0.9988 - val_loss: 5.7434 - val_acc: 0.7181 - lr: 1.0000e-05\n",
      "Epoch 24/50\n",
      "53/52 [==============================] - 4124s 78s/step - loss: 4.7483 - acc: 0.9953 - val_loss: 6.6064 - val_acc: 0.4718 - lr: 1.0000e-05\n",
      "Epoch 25/50\n",
      "53/52 [==============================] - 1630s 31s/step - loss: 4.7031 - acc: 0.9976 - val_loss: 5.5529 - val_acc: 0.7003 - lr: 1.0000e-05\n",
      "Epoch 26/50\n",
      "53/52 [==============================] - 915s 17s/step - loss: 4.6517 - acc: 1.0000 - val_loss: 5.3804 - val_acc: 0.7448 - lr: 1.0000e-05\n",
      "Epoch 27/50\n",
      "53/52 [==============================] - 930s 18s/step - loss: 4.6240 - acc: 1.0000 - val_loss: 5.2712 - val_acc: 0.7864 - lr: 1.0000e-06\n",
      "Epoch 28/50\n",
      " 1/52 [..............................] - ETA: 0s - loss: 4.6821 - acc: 0.9375"
     ]
    },
    {
     "ename": "KeyboardInterrupt",
     "evalue": "",
     "output_type": "error",
     "traceback": [
      "\u001b[1;31m---------------------------------------------------------------------------\u001b[0m",
      "\u001b[1;31mKeyboardInterrupt\u001b[0m                         Traceback (most recent call last)",
      "\u001b[1;32m<ipython-input-354-832a0b05ffa6>\u001b[0m in \u001b[0;36m<module>\u001b[1;34m\u001b[0m\n\u001b[0;32m      5\u001b[0m                                   \u001b[0mvalidation_data\u001b[0m\u001b[1;33m=\u001b[0m \u001b[0mvalid_ds_batch\u001b[0m\u001b[1;33m,\u001b[0m\u001b[1;33m\u001b[0m\u001b[1;33m\u001b[0m\u001b[0m\n\u001b[0;32m      6\u001b[0m                                   \u001b[0msteps_per_epoch\u001b[0m \u001b[1;33m=\u001b[0m \u001b[0msteps_per_epoch\u001b[0m\u001b[1;33m,\u001b[0m\u001b[1;33m\u001b[0m\u001b[1;33m\u001b[0m\u001b[0m\n\u001b[1;32m----> 7\u001b[1;33m                                   callbacks=[lrdecay,earlystop('loss')])\n\u001b[0m",
      "\u001b[1;32m~\\Anaconda3\\lib\\site-packages\\tensorflow\\python\\keras\\engine\\training.py\u001b[0m in \u001b[0;36m_method_wrapper\u001b[1;34m(self, *args, **kwargs)\u001b[0m\n\u001b[0;32m     64\u001b[0m   \u001b[1;32mdef\u001b[0m \u001b[0m_method_wrapper\u001b[0m\u001b[1;33m(\u001b[0m\u001b[0mself\u001b[0m\u001b[1;33m,\u001b[0m \u001b[1;33m*\u001b[0m\u001b[0margs\u001b[0m\u001b[1;33m,\u001b[0m \u001b[1;33m**\u001b[0m\u001b[0mkwargs\u001b[0m\u001b[1;33m)\u001b[0m\u001b[1;33m:\u001b[0m\u001b[1;33m\u001b[0m\u001b[1;33m\u001b[0m\u001b[0m\n\u001b[0;32m     65\u001b[0m     \u001b[1;32mif\u001b[0m \u001b[1;32mnot\u001b[0m \u001b[0mself\u001b[0m\u001b[1;33m.\u001b[0m\u001b[0m_in_multi_worker_mode\u001b[0m\u001b[1;33m(\u001b[0m\u001b[1;33m)\u001b[0m\u001b[1;33m:\u001b[0m  \u001b[1;31m# pylint: disable=protected-access\u001b[0m\u001b[1;33m\u001b[0m\u001b[1;33m\u001b[0m\u001b[0m\n\u001b[1;32m---> 66\u001b[1;33m       \u001b[1;32mreturn\u001b[0m \u001b[0mmethod\u001b[0m\u001b[1;33m(\u001b[0m\u001b[0mself\u001b[0m\u001b[1;33m,\u001b[0m \u001b[1;33m*\u001b[0m\u001b[0margs\u001b[0m\u001b[1;33m,\u001b[0m \u001b[1;33m**\u001b[0m\u001b[0mkwargs\u001b[0m\u001b[1;33m)\u001b[0m\u001b[1;33m\u001b[0m\u001b[1;33m\u001b[0m\u001b[0m\n\u001b[0m\u001b[0;32m     67\u001b[0m \u001b[1;33m\u001b[0m\u001b[0m\n\u001b[0;32m     68\u001b[0m     \u001b[1;31m# Running inside `run_distribute_coordinator` already.\u001b[0m\u001b[1;33m\u001b[0m\u001b[1;33m\u001b[0m\u001b[1;33m\u001b[0m\u001b[0m\n",
      "\u001b[1;32m~\\Anaconda3\\lib\\site-packages\\tensorflow\\python\\keras\\engine\\training.py\u001b[0m in \u001b[0;36mfit\u001b[1;34m(self, x, y, batch_size, epochs, verbose, callbacks, validation_split, validation_data, shuffle, class_weight, sample_weight, initial_epoch, steps_per_epoch, validation_steps, validation_batch_size, validation_freq, max_queue_size, workers, use_multiprocessing)\u001b[0m\n\u001b[0;32m    846\u001b[0m                 batch_size=batch_size):\n\u001b[0;32m    847\u001b[0m               \u001b[0mcallbacks\u001b[0m\u001b[1;33m.\u001b[0m\u001b[0mon_train_batch_begin\u001b[0m\u001b[1;33m(\u001b[0m\u001b[0mstep\u001b[0m\u001b[1;33m)\u001b[0m\u001b[1;33m\u001b[0m\u001b[1;33m\u001b[0m\u001b[0m\n\u001b[1;32m--> 848\u001b[1;33m               \u001b[0mtmp_logs\u001b[0m \u001b[1;33m=\u001b[0m \u001b[0mtrain_function\u001b[0m\u001b[1;33m(\u001b[0m\u001b[0miterator\u001b[0m\u001b[1;33m)\u001b[0m\u001b[1;33m\u001b[0m\u001b[1;33m\u001b[0m\u001b[0m\n\u001b[0m\u001b[0;32m    849\u001b[0m               \u001b[1;31m# Catch OutOfRangeError for Datasets of unknown size.\u001b[0m\u001b[1;33m\u001b[0m\u001b[1;33m\u001b[0m\u001b[1;33m\u001b[0m\u001b[0m\n\u001b[0;32m    850\u001b[0m               \u001b[1;31m# This blocks until the batch has finished executing.\u001b[0m\u001b[1;33m\u001b[0m\u001b[1;33m\u001b[0m\u001b[1;33m\u001b[0m\u001b[0m\n",
      "\u001b[1;32m~\\Anaconda3\\lib\\site-packages\\tensorflow\\python\\eager\\def_function.py\u001b[0m in \u001b[0;36m__call__\u001b[1;34m(self, *args, **kwds)\u001b[0m\n\u001b[0;32m    578\u001b[0m         \u001b[0mxla_context\u001b[0m\u001b[1;33m.\u001b[0m\u001b[0mExit\u001b[0m\u001b[1;33m(\u001b[0m\u001b[1;33m)\u001b[0m\u001b[1;33m\u001b[0m\u001b[1;33m\u001b[0m\u001b[0m\n\u001b[0;32m    579\u001b[0m     \u001b[1;32melse\u001b[0m\u001b[1;33m:\u001b[0m\u001b[1;33m\u001b[0m\u001b[1;33m\u001b[0m\u001b[0m\n\u001b[1;32m--> 580\u001b[1;33m       \u001b[0mresult\u001b[0m \u001b[1;33m=\u001b[0m \u001b[0mself\u001b[0m\u001b[1;33m.\u001b[0m\u001b[0m_call\u001b[0m\u001b[1;33m(\u001b[0m\u001b[1;33m*\u001b[0m\u001b[0margs\u001b[0m\u001b[1;33m,\u001b[0m \u001b[1;33m**\u001b[0m\u001b[0mkwds\u001b[0m\u001b[1;33m)\u001b[0m\u001b[1;33m\u001b[0m\u001b[1;33m\u001b[0m\u001b[0m\n\u001b[0m\u001b[0;32m    581\u001b[0m \u001b[1;33m\u001b[0m\u001b[0m\n\u001b[0;32m    582\u001b[0m     \u001b[1;32mif\u001b[0m \u001b[0mtracing_count\u001b[0m \u001b[1;33m==\u001b[0m \u001b[0mself\u001b[0m\u001b[1;33m.\u001b[0m\u001b[0m_get_tracing_count\u001b[0m\u001b[1;33m(\u001b[0m\u001b[1;33m)\u001b[0m\u001b[1;33m:\u001b[0m\u001b[1;33m\u001b[0m\u001b[1;33m\u001b[0m\u001b[0m\n",
      "\u001b[1;32m~\\Anaconda3\\lib\\site-packages\\tensorflow\\python\\eager\\def_function.py\u001b[0m in \u001b[0;36m_call\u001b[1;34m(self, *args, **kwds)\u001b[0m\n\u001b[0;32m    609\u001b[0m       \u001b[1;31m# In this case we have created variables on the first call, so we run the\u001b[0m\u001b[1;33m\u001b[0m\u001b[1;33m\u001b[0m\u001b[1;33m\u001b[0m\u001b[0m\n\u001b[0;32m    610\u001b[0m       \u001b[1;31m# defunned version which is guaranteed to never create variables.\u001b[0m\u001b[1;33m\u001b[0m\u001b[1;33m\u001b[0m\u001b[1;33m\u001b[0m\u001b[0m\n\u001b[1;32m--> 611\u001b[1;33m       \u001b[1;32mreturn\u001b[0m \u001b[0mself\u001b[0m\u001b[1;33m.\u001b[0m\u001b[0m_stateless_fn\u001b[0m\u001b[1;33m(\u001b[0m\u001b[1;33m*\u001b[0m\u001b[0margs\u001b[0m\u001b[1;33m,\u001b[0m \u001b[1;33m**\u001b[0m\u001b[0mkwds\u001b[0m\u001b[1;33m)\u001b[0m  \u001b[1;31m# pylint: disable=not-callable\u001b[0m\u001b[1;33m\u001b[0m\u001b[1;33m\u001b[0m\u001b[0m\n\u001b[0m\u001b[0;32m    612\u001b[0m     \u001b[1;32melif\u001b[0m \u001b[0mself\u001b[0m\u001b[1;33m.\u001b[0m\u001b[0m_stateful_fn\u001b[0m \u001b[1;32mis\u001b[0m \u001b[1;32mnot\u001b[0m \u001b[1;32mNone\u001b[0m\u001b[1;33m:\u001b[0m\u001b[1;33m\u001b[0m\u001b[1;33m\u001b[0m\u001b[0m\n\u001b[0;32m    613\u001b[0m       \u001b[1;31m# Release the lock early so that multiple threads can perform the call\u001b[0m\u001b[1;33m\u001b[0m\u001b[1;33m\u001b[0m\u001b[1;33m\u001b[0m\u001b[0m\n",
      "\u001b[1;32m~\\Anaconda3\\lib\\site-packages\\tensorflow\\python\\eager\\function.py\u001b[0m in \u001b[0;36m__call__\u001b[1;34m(self, *args, **kwargs)\u001b[0m\n\u001b[0;32m   2418\u001b[0m     \u001b[1;32mwith\u001b[0m \u001b[0mself\u001b[0m\u001b[1;33m.\u001b[0m\u001b[0m_lock\u001b[0m\u001b[1;33m:\u001b[0m\u001b[1;33m\u001b[0m\u001b[1;33m\u001b[0m\u001b[0m\n\u001b[0;32m   2419\u001b[0m       \u001b[0mgraph_function\u001b[0m\u001b[1;33m,\u001b[0m \u001b[0margs\u001b[0m\u001b[1;33m,\u001b[0m \u001b[0mkwargs\u001b[0m \u001b[1;33m=\u001b[0m \u001b[0mself\u001b[0m\u001b[1;33m.\u001b[0m\u001b[0m_maybe_define_function\u001b[0m\u001b[1;33m(\u001b[0m\u001b[0margs\u001b[0m\u001b[1;33m,\u001b[0m \u001b[0mkwargs\u001b[0m\u001b[1;33m)\u001b[0m\u001b[1;33m\u001b[0m\u001b[1;33m\u001b[0m\u001b[0m\n\u001b[1;32m-> 2420\u001b[1;33m     \u001b[1;32mreturn\u001b[0m \u001b[0mgraph_function\u001b[0m\u001b[1;33m.\u001b[0m\u001b[0m_filtered_call\u001b[0m\u001b[1;33m(\u001b[0m\u001b[0margs\u001b[0m\u001b[1;33m,\u001b[0m \u001b[0mkwargs\u001b[0m\u001b[1;33m)\u001b[0m  \u001b[1;31m# pylint: disable=protected-access\u001b[0m\u001b[1;33m\u001b[0m\u001b[1;33m\u001b[0m\u001b[0m\n\u001b[0m\u001b[0;32m   2421\u001b[0m \u001b[1;33m\u001b[0m\u001b[0m\n\u001b[0;32m   2422\u001b[0m   \u001b[1;33m@\u001b[0m\u001b[0mproperty\u001b[0m\u001b[1;33m\u001b[0m\u001b[1;33m\u001b[0m\u001b[0m\n",
      "\u001b[1;32m~\\Anaconda3\\lib\\site-packages\\tensorflow\\python\\eager\\function.py\u001b[0m in \u001b[0;36m_filtered_call\u001b[1;34m(self, args, kwargs)\u001b[0m\n\u001b[0;32m   1663\u001b[0m          if isinstance(t, (ops.Tensor,\n\u001b[0;32m   1664\u001b[0m                            resource_variable_ops.BaseResourceVariable))),\n\u001b[1;32m-> 1665\u001b[1;33m         self.captured_inputs)\n\u001b[0m\u001b[0;32m   1666\u001b[0m \u001b[1;33m\u001b[0m\u001b[0m\n\u001b[0;32m   1667\u001b[0m   \u001b[1;32mdef\u001b[0m \u001b[0m_call_flat\u001b[0m\u001b[1;33m(\u001b[0m\u001b[0mself\u001b[0m\u001b[1;33m,\u001b[0m \u001b[0margs\u001b[0m\u001b[1;33m,\u001b[0m \u001b[0mcaptured_inputs\u001b[0m\u001b[1;33m,\u001b[0m \u001b[0mcancellation_manager\u001b[0m\u001b[1;33m=\u001b[0m\u001b[1;32mNone\u001b[0m\u001b[1;33m)\u001b[0m\u001b[1;33m:\u001b[0m\u001b[1;33m\u001b[0m\u001b[1;33m\u001b[0m\u001b[0m\n",
      "\u001b[1;32m~\\Anaconda3\\lib\\site-packages\\tensorflow\\python\\eager\\function.py\u001b[0m in \u001b[0;36m_call_flat\u001b[1;34m(self, args, captured_inputs, cancellation_manager)\u001b[0m\n\u001b[0;32m   1744\u001b[0m       \u001b[1;31m# No tape is watching; skip to running the function.\u001b[0m\u001b[1;33m\u001b[0m\u001b[1;33m\u001b[0m\u001b[1;33m\u001b[0m\u001b[0m\n\u001b[0;32m   1745\u001b[0m       return self._build_call_outputs(self._inference_function.call(\n\u001b[1;32m-> 1746\u001b[1;33m           ctx, args, cancellation_manager=cancellation_manager))\n\u001b[0m\u001b[0;32m   1747\u001b[0m     forward_backward = self._select_forward_and_backward_functions(\n\u001b[0;32m   1748\u001b[0m         \u001b[0margs\u001b[0m\u001b[1;33m,\u001b[0m\u001b[1;33m\u001b[0m\u001b[1;33m\u001b[0m\u001b[0m\n",
      "\u001b[1;32m~\\Anaconda3\\lib\\site-packages\\tensorflow\\python\\eager\\function.py\u001b[0m in \u001b[0;36mcall\u001b[1;34m(self, ctx, args, cancellation_manager)\u001b[0m\n\u001b[0;32m    596\u001b[0m               \u001b[0minputs\u001b[0m\u001b[1;33m=\u001b[0m\u001b[0margs\u001b[0m\u001b[1;33m,\u001b[0m\u001b[1;33m\u001b[0m\u001b[1;33m\u001b[0m\u001b[0m\n\u001b[0;32m    597\u001b[0m               \u001b[0mattrs\u001b[0m\u001b[1;33m=\u001b[0m\u001b[0mattrs\u001b[0m\u001b[1;33m,\u001b[0m\u001b[1;33m\u001b[0m\u001b[1;33m\u001b[0m\u001b[0m\n\u001b[1;32m--> 598\u001b[1;33m               ctx=ctx)\n\u001b[0m\u001b[0;32m    599\u001b[0m         \u001b[1;32melse\u001b[0m\u001b[1;33m:\u001b[0m\u001b[1;33m\u001b[0m\u001b[1;33m\u001b[0m\u001b[0m\n\u001b[0;32m    600\u001b[0m           outputs = execute.execute_with_cancellation(\n",
      "\u001b[1;32m~\\Anaconda3\\lib\\site-packages\\tensorflow\\python\\eager\\execute.py\u001b[0m in \u001b[0;36mquick_execute\u001b[1;34m(op_name, num_outputs, inputs, attrs, ctx, name)\u001b[0m\n\u001b[0;32m     58\u001b[0m     \u001b[0mctx\u001b[0m\u001b[1;33m.\u001b[0m\u001b[0mensure_initialized\u001b[0m\u001b[1;33m(\u001b[0m\u001b[1;33m)\u001b[0m\u001b[1;33m\u001b[0m\u001b[1;33m\u001b[0m\u001b[0m\n\u001b[0;32m     59\u001b[0m     tensors = pywrap_tfe.TFE_Py_Execute(ctx._handle, device_name, op_name,\n\u001b[1;32m---> 60\u001b[1;33m                                         inputs, attrs, num_outputs)\n\u001b[0m\u001b[0;32m     61\u001b[0m   \u001b[1;32mexcept\u001b[0m \u001b[0mcore\u001b[0m\u001b[1;33m.\u001b[0m\u001b[0m_NotOkStatusException\u001b[0m \u001b[1;32mas\u001b[0m \u001b[0me\u001b[0m\u001b[1;33m:\u001b[0m\u001b[1;33m\u001b[0m\u001b[1;33m\u001b[0m\u001b[0m\n\u001b[0;32m     62\u001b[0m     \u001b[1;32mif\u001b[0m \u001b[0mname\u001b[0m \u001b[1;32mis\u001b[0m \u001b[1;32mnot\u001b[0m \u001b[1;32mNone\u001b[0m\u001b[1;33m:\u001b[0m\u001b[1;33m\u001b[0m\u001b[1;33m\u001b[0m\u001b[0m\n",
      "\u001b[1;31mKeyboardInterrupt\u001b[0m: "
     ]
    }
   ],
   "source": [
    "steps_per_epoch = len(train_paths)/16\n",
    "\n",
    "resnet_train = base_model.fit(train_ds_batch, \n",
    "                                  epochs=50,   \n",
    "                                  validation_data= valid_ds_batch, \n",
    "                                  steps_per_epoch = steps_per_epoch,\n",
    "                                  callbacks=[lrdecay,earlystop('loss')])"
   ]
  },
  {
   "cell_type": "code",
   "execution_count": 355,
   "metadata": {},
   "outputs": [],
   "source": [
    "# Calling `save('my_model')` creates a SavedModel folder `my_model`.\n",
    "base_model.save(\"C:/Users/91709/dog-breed-identification/my_model.h5\")\n",
    "\n",
    "# It can be used to reconstruct the model identically.\n",
    "# reconstructed_model = keras.models.load_model(\"my_model\")"
   ]
  },
  {
   "cell_type": "code",
   "execution_count": 356,
   "metadata": {},
   "outputs": [
    {
     "data": {
      "image/png": "[encoded data removed]",
      "text/plain": [
       "<Figure size 648x360 with 2 Axes>"
      ]
     },
     "metadata": {
      "needs_background": "light"
     },
     "output_type": "display_data"
    }
   ],
   "source": [
    "loss = resnet_train.history['loss']\n",
    "v_loss = resnet_train.history['val_loss']\n",
    "\n",
    "acc = resnet_train.history['acc']\n",
    "v_acc = resnet_train.history['val_acc']\n",
    "\n",
    "epochs = range(len(loss))\n",
    "\n",
    "fig = plt.figure(figsize=(9, 5))\n",
    "plt.subplot(1, 2, 1)\n",
    "plt.yscale('log')\n",
    "plt.plot(epochs, loss, linestyle='--', linewidth=3, color='orange', alpha=0.7, label='Train Loss')\n",
    "plt.plot(epochs, v_loss, linestyle='-.', linewidth=2, color='lime', alpha=0.8, label='Valid Loss')\n",
    "plt.ylim(0.3, 100)\n",
    "plt.xlabel('Epochs', fontsize=11)\n",
    "plt.ylabel('Loss', fontsize=12)\n",
    "plt.legend(fontsize=12)\n",
    "plt.subplot(1, 2, 2)\n",
    "plt.plot(epochs, acc, linestyle='--', linewidth=3, color='orange', alpha=0.7, label='Train Acc')\n",
    "plt.plot(epochs, v_acc, linestyle='-.', linewidth=2, color='lime', alpha=0.8, label='Valid Acc') \n",
    "plt.xlabel('Epochs', fontsize=11)\n",
    "plt.ylabel('Accuracy', fontsize=12)\n",
    "plt.legend(fontsize=12)\n",
    "plt.tight_layout()\n",
    "plt.show()"
   ]
  },
  {
   "cell_type": "code",
   "execution_count": 357,
   "metadata": {},
   "outputs": [
    {
     "data": {
      "text/html": [
       "<div>\n",
       "<style scoped>\n",
       "    .dataframe tbody tr th:only-of-type {\n",
       "        vertical-align: middle;\n",
       "    }\n",
       "\n",
       "    .dataframe tbody tr th {\n",
       "        vertical-align: top;\n",
       "    }\n",
       "\n",
       "    .dataframe thead th {\n",
       "        text-align: right;\n",
       "    }\n",
       "</style>\n",
       "<table border=\"1\" class=\"dataframe\">\n",
       "  <thead>\n",
       "    <tr style=\"text-align: right;\">\n",
       "      <th></th>\n",
       "      <th>id</th>\n",
       "      <th>breed</th>\n",
       "      <th>label_no</th>\n",
       "    </tr>\n",
       "  </thead>\n",
       "  <tbody>\n",
       "    <tr>\n",
       "      <th>0</th>\n",
       "      <td>b1.jpg</td>\n",
       "      <td>beagle</td>\n",
       "      <td>0</td>\n",
       "    </tr>\n",
       "    <tr>\n",
       "      <th>1</th>\n",
       "      <td>b2.jpg</td>\n",
       "      <td>beagle</td>\n",
       "      <td>0</td>\n",
       "    </tr>\n",
       "    <tr>\n",
       "      <th>2</th>\n",
       "      <td>b3.jpg</td>\n",
       "      <td>beagle</td>\n",
       "      <td>0</td>\n",
       "    </tr>\n",
       "    <tr>\n",
       "      <th>3</th>\n",
       "      <td>c1.jpg</td>\n",
       "      <td>chihuahua</td>\n",
       "      <td>1</td>\n",
       "    </tr>\n",
       "    <tr>\n",
       "      <th>4</th>\n",
       "      <td>c2.jpg</td>\n",
       "      <td>chihuahua</td>\n",
       "      <td>1</td>\n",
       "    </tr>\n",
       "  </tbody>\n",
       "</table>\n",
       "</div>"
      ],
      "text/plain": [
       "       id      breed  label_no\n",
       "0  b1.jpg     beagle         0\n",
       "1  b2.jpg     beagle         0\n",
       "2  b3.jpg     beagle         0\n",
       "3  c1.jpg  chihuahua         1\n",
       "4  c2.jpg  chihuahua         1"
      ]
     },
     "execution_count": 357,
     "metadata": {},
     "output_type": "execute_result"
    }
   ],
   "source": [
    "test_labels = pd.read_csv(\"C:/Users/91709/dog-breed-identification/test_labels1.csv\")\n",
    "test_labels.head()"
   ]
  },
  {
   "cell_type": "code",
   "execution_count": 358,
   "metadata": {},
   "outputs": [],
   "source": [
    "test_paths = 'C:/Users/91709/dog-breed-identification/sample_test/' + test_labels['id']\n",
    "dog_breeds = pd.get_dummies(test_labels.breed).values"
   ]
  },
  {
   "cell_type": "code",
   "execution_count": 359,
   "metadata": {},
   "outputs": [],
   "source": [
    "test_ds = tf.data.Dataset.from_tensor_slices((test_paths, dog_breeds))"
   ]
  },
  {
   "cell_type": "code",
   "execution_count": 360,
   "metadata": {},
   "outputs": [],
   "source": [
    "def decode_test_data(image_path,label):\n",
    "    \n",
    "    img = tf.io.read_file(image_path)\n",
    "    img = tf.io.decode_jpeg(img, channels=3)\n",
    "    img = tf.cast(img, tf.float32) / 255.0\n",
    "    img = tf.image.resize(img,[312,312])\n",
    "    \n",
    "    return img,label\n"
   ]
  },
  {
   "cell_type": "code",
   "execution_count": 361,
   "metadata": {},
   "outputs": [
    {
     "data": {
      "text/plain": [
       "<BatchDataset shapes: ((None, 312, 312, 3), (None, 10)), types: (tf.float32, tf.uint8)>"
      ]
     },
     "execution_count": 361,
     "metadata": {},
     "output_type": "execute_result"
    }
   ],
   "source": [
    "test_ds = test_ds.map(decode_test_data, num_parallel_calls=tf.data.experimental.AUTOTUNE)\n",
    "test_ds_batch = test_ds.batch(15)\n",
    "test_ds_batch"
   ]
  },
  {
   "cell_type": "code",
   "execution_count": 362,
   "metadata": {},
   "outputs": [
    {
     "name": "stdout",
     "output_type": "stream",
     "text": [
      "2/2 [==============================] - 2s 892ms/step - loss: 5.2340 - acc: 0.8667\n"
     ]
    }
   ],
   "source": [
    "predictions = base_model.evaluate(test_ds_batch)"
   ]
  },
  {
   "cell_type": "code",
   "execution_count": 363,
   "metadata": {},
   "outputs": [],
   "source": [
    "predictions = base_model.predict(test_ds_batch,use_multiprocessing=True)"
   ]
  },
  {
   "cell_type": "code",
   "execution_count": 364,
   "metadata": {},
   "outputs": [
    {
     "data": {
      "text/plain": [
       "30"
      ]
     },
     "execution_count": 364,
     "metadata": {},
     "output_type": "execute_result"
    }
   ],
   "source": [
    "len(predictions)"
   ]
  },
  {
   "cell_type": "code",
   "execution_count": 365,
   "metadata": {},
   "outputs": [],
   "source": [
    "from sklearn.metrics import confusion_matrix, classification_report\n",
    "import seaborn as sns\n",
    "class_names = ['beagle' 'chihuahua' 'doberman' 'french_bulldog' 'golden_retriever'\n",
    " 'malamute' 'pug' 'saint_bernard' 'scottish_deerhound' 'tibetan_mastiff']\n",
    "class_types = [0,1,2,3,4,5,6,7,8,9]\n",
    "def conf_matrix(predictions): \n",
    "    ''' Plots conf. matrix and classification report '''\n",
    "    cm=confusion_matrix(test_labels.label_no, np.argmax(np.round(predictions), axis=1))\n",
    "    print(\"Classification Report:\\n\")\n",
    "    cr=classification_report(test_labels.label_no,\n",
    "                                np.argmax(np.round(predictions), axis=1))\n",
    "    print(cr)\n",
    "    plt.figure(figsize=(12,12))\n",
    "    sns_hmp = sns.heatmap(cm, annot=True, xticklabels = class_types, \n",
    "                yticklabels = class_types, fmt=\"d\")"
   ]
  },
  {
   "cell_type": "code",
   "execution_count": 366,
   "metadata": {},
   "outputs": [
    {
     "name": "stdout",
     "output_type": "stream",
     "text": [
      "Classification Report:\n",
      "\n",
      "              precision    recall  f1-score   support\n",
      "\n",
      "           0       1.00      1.00      1.00         3\n",
      "           1       0.00      0.00      0.00         3\n",
      "           2       1.00      1.00      1.00         3\n",
      "           3       0.40      0.67      0.50         3\n",
      "           4       1.00      1.00      1.00         3\n",
      "           5       1.00      1.00      1.00         3\n",
      "           6       0.75      1.00      0.86         3\n",
      "           7       1.00      1.00      1.00         3\n",
      "           8       1.00      1.00      1.00         3\n",
      "           9       1.00      1.00      1.00         3\n",
      "\n",
      "    accuracy                           0.87        30\n",
      "   macro avg       0.82      0.87      0.84        30\n",
      "weighted avg       0.81      0.87      0.84        30\n",
      "\n"
     ]
    },
    {
     "name": "stderr",
     "output_type": "stream",
     "text": [
      "C:\\Users\\91709\\Anaconda3\\lib\\site-packages\\sklearn\\metrics\\_classification.py:1272: UndefinedMetricWarning: Precision and F-score are ill-defined and being set to 0.0 in labels with no predicted samples. Use `zero_division` parameter to control this behavior.\n",
      "  _warn_prf(average, modifier, msg_start, len(result))\n"
     ]
    },
    {
     "data": {
      "image/png": "[encoded data removed]",
      "text/plain": [
       "<Figure size 864x864 with 2 Axes>"
      ]
     },
     "metadata": {
      "needs_background": "light"
     },
     "output_type": "display_data"
    }
   ],
   "source": [
    "conf_matrix(predictions)"
   ]
  },
  {
   "cell_type": "code",
   "execution_count": 367,
   "metadata": {},
   "outputs": [],
   "source": [
    "class_names = ['beagle' 'chihuahua' 'doberman' 'french_bulldog' 'golden_retriever'\n",
    " 'malamute' 'pug' 'saint_bernard' 'scottish_deerhound' 'tibetan_mastiff']\n",
    "class_types = [1,2,3,4,5,6,7,8,9,10]"
   ]
  },
  {
   "cell_type": "code",
   "execution_count": 368,
   "metadata": {},
   "outputs": [
    {
     "data": {
      "text/plain": [
       "array([0, 0, 0, 3, 3, 3, 2, 2, 2, 6, 3, 3, 4, 4, 4, 8, 8, 8, 5, 5, 5, 6,\n",
       "       6, 6, 7, 7, 7, 9, 9, 9], dtype=int64)"
      ]
     },
     "execution_count": 368,
     "metadata": {},
     "output_type": "execute_result"
    }
   ],
   "source": [
    "np.argmax(np.round(predictions), axis=1)"
   ]
  },
  {
   "cell_type": "code",
   "execution_count": null,
   "metadata": {},
   "outputs": [],
   "source": []
  }
 ],
 "metadata": {
  "kernelspec": {
   "display_name": "Python 3",
   "language": "python",
   "name": "python3"
  },
  "language_info": {
   "codemirror_mode": {
    "name": "ipython",
    "version": 3
   },
   "file_extension": ".py",
   "mimetype": "text/x-python",
   "name": "python",
   "nbconvert_exporter": "python",
   "pygments_lexer": "ipython3",
   "version": "3.7.6"
  }
 },
 "nbformat": 4,
 "nbformat_minor": 4
}
